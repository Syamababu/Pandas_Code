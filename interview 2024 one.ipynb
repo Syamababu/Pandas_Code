{
 "cells": [
  {
   "cell_type": "code",
   "execution_count": 1,
   "id": "8d11ce18",
   "metadata": {},
   "outputs": [
    {
     "name": "stdout",
     "output_type": "stream",
     "text": [
      "a 2\n",
      "a 2\n",
      "b 1\n",
      "c 3\n",
      "c 3\n",
      "c 3\n",
      "d 1\n",
      "g 1\n",
      "h 1\n",
      "l 1\n",
      "r 1\n",
      "s 1\n",
      "w 2\n",
      "w 2\n",
      "y 1\n"
     ]
    }
   ],
   "source": [
    "x=\"abhayccwwsdrclg\"\n",
    "new_x=sorted(x)\n",
    "for i in new_x:\n",
    "    print(i,x.count(i))"
   ]
  },
  {
   "cell_type": "code",
   "execution_count": 2,
   "id": "a1dbd6a5",
   "metadata": {},
   "outputs": [
    {
     "name": "stdout",
     "output_type": "stream",
     "text": [
      "a 2\n",
      "b 1\n",
      "h 1\n",
      "y 1\n",
      "c 3\n",
      "w 2\n",
      "s 1\n",
      "d 1\n",
      "r 1\n",
      "l 1\n",
      "g 1\n"
     ]
    }
   ],
   "source": [
    "d={}\n",
    "for i in x:\n",
    "    d[i]=d.get(i,0)+1\n",
    "for k,v in d.items():\n",
    "    print(k,v)"
   ]
  },
  {
   "cell_type": "code",
   "execution_count": 19,
   "id": "4740e9e5",
   "metadata": {},
   "outputs": [
    {
     "name": "stdout",
     "output_type": "stream",
     "text": [
      "     * \n",
      "    * * \n",
      "   * * * \n",
      "  * * * * \n",
      " * * * * * \n"
     ]
    }
   ],
   "source": [
    "n=5\n",
    "for i in range(1,n+1):\n",
    "    print(' '*(n-i),end=' ')\n",
    "    for j in range(i):\n",
    "        print('*',end=' ')\n",
    "    print()"
   ]
  },
  {
   "cell_type": "code",
   "execution_count": null,
   "id": "2b833248",
   "metadata": {},
   "outputs": [],
   "source": []
  },
  {
   "cell_type": "code",
   "execution_count": null,
   "id": "d46eaf52",
   "metadata": {},
   "outputs": [],
   "source": []
  },
  {
   "cell_type": "code",
   "execution_count": null,
   "id": "6134ffdf",
   "metadata": {},
   "outputs": [],
   "source": []
  }
 ],
 "metadata": {
  "kernelspec": {
   "display_name": "Python 3 (ipykernel)",
   "language": "python",
   "name": "python3"
  },
  "language_info": {
   "codemirror_mode": {
    "name": "ipython",
    "version": 3
   },
   "file_extension": ".py",
   "mimetype": "text/x-python",
   "name": "python",
   "nbconvert_exporter": "python",
   "pygments_lexer": "ipython3",
   "version": "3.10.9"
  }
 },
 "nbformat": 4,
 "nbformat_minor": 5
}
